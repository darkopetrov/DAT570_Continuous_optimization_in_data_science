{
 "cells": [
  {
   "cell_type": "markdown",
   "metadata": {},
   "source": [
    "# <center> Module 5\n",
    "\n",
    "Group: 12<br>\n",
    "Darko Petrov<br>\n",
    "Alexander Lendon"
   ]
  },
  {
   "cell_type": "markdown",
   "metadata": {},
   "source": [
    "#### 1"
   ]
  },
  {
   "cell_type": "markdown",
   "metadata": {},
   "source": [
    "#### 2"
   ]
  },
  {
   "cell_type": "code",
   "execution_count": 3,
   "metadata": {},
   "outputs": [
    {
     "ename": "IndexError",
     "evalue": "index 643 is out of bounds for axis 0 with size 100",
     "output_type": "error",
     "traceback": [
      "\u001b[1;31m---------------------------------------------------------------------------\u001b[0m",
      "\u001b[1;31mIndexError\u001b[0m                                Traceback (most recent call last)",
      "Cell \u001b[1;32mIn[3], line 100\u001b[0m\n\u001b[0;32m     97\u001b[0m x_ISTA \u001b[38;5;241m=\u001b[39m ISTA(y, xcoord, ycoord, alpha, np\u001b[38;5;241m.\u001b[39mzeros(bw_img\u001b[38;5;241m.\u001b[39mshape), step\u001b[38;5;241m=\u001b[39m\u001b[38;5;241m0.99\u001b[39m, iternum\u001b[38;5;241m=\u001b[39m\u001b[38;5;241m100\u001b[39m)\n\u001b[0;32m     98\u001b[0m img_approx_ISTA \u001b[38;5;241m=\u001b[39m transform\u001b[38;5;241m.\u001b[39midct(transform\u001b[38;5;241m.\u001b[39midct(x_ISTA, axis\u001b[38;5;241m=\u001b[39m\u001b[38;5;241m1\u001b[39m),axis\u001b[38;5;241m=\u001b[39m\u001b[38;5;241m0\u001b[39m, norm\u001b[38;5;241m=\u001b[39m\u001b[38;5;124m'\u001b[39m\u001b[38;5;124mortho\u001b[39m\u001b[38;5;124m'\u001b[39m)\n\u001b[1;32m--> 100\u001b[0m x_FISTA \u001b[38;5;241m=\u001b[39m \u001b[43mFISTA\u001b[49m\u001b[43m(\u001b[49m\u001b[43my\u001b[49m\u001b[43m,\u001b[49m\u001b[43m \u001b[49m\u001b[43mxcoord\u001b[49m\u001b[43m,\u001b[49m\u001b[43m \u001b[49m\u001b[43mycoord\u001b[49m\u001b[43m,\u001b[49m\u001b[43m \u001b[49m\u001b[38;5;241;43m0.1\u001b[39;49m\u001b[43m,\u001b[49m\u001b[43m \u001b[49m\u001b[43mnp\u001b[49m\u001b[38;5;241;43m.\u001b[39;49m\u001b[43mzeros\u001b[49m\u001b[43m(\u001b[49m\u001b[43mbw_img\u001b[49m\u001b[38;5;241;43m.\u001b[39;49m\u001b[43mshape\u001b[49m\u001b[43m)\u001b[49m\u001b[43m,\u001b[49m\u001b[43m \u001b[49m\u001b[43mstep\u001b[49m\u001b[38;5;241;43m=\u001b[39;49m\u001b[38;5;241;43m0.99\u001b[39;49m\u001b[43m,\u001b[49m\u001b[43m \u001b[49m\u001b[43miternum\u001b[49m\u001b[38;5;241;43m=\u001b[39;49m\u001b[38;5;241;43m100\u001b[39;49m\u001b[43m)\u001b[49m\n\u001b[0;32m    101\u001b[0m img_approx_FISTA \u001b[38;5;241m=\u001b[39m transform\u001b[38;5;241m.\u001b[39midct(transform\u001b[38;5;241m.\u001b[39midct(x_FISTA, axis\u001b[38;5;241m=\u001b[39m\u001b[38;5;241m1\u001b[39m),axis\u001b[38;5;241m=\u001b[39m\u001b[38;5;241m0\u001b[39m, norm\u001b[38;5;241m=\u001b[39m\u001b[38;5;124m'\u001b[39m\u001b[38;5;124mortho\u001b[39m\u001b[38;5;124m'\u001b[39m)\n\u001b[0;32m    103\u001b[0m \u001b[38;5;66;03m# Plot the result\u001b[39;00m\n",
      "Cell \u001b[1;32mIn[3], line 79\u001b[0m, in \u001b[0;36mFISTA\u001b[1;34m(y, xcoord, ycoord, alpha, xinit, step, iternum)\u001b[0m\n\u001b[0;32m     76\u001b[0m t_old \u001b[38;5;241m=\u001b[39m t\n\u001b[0;32m     78\u001b[0m \u001b[38;5;66;03m# Compute the gradient at z\u001b[39;00m\n\u001b[1;32m---> 79\u001b[0m grad \u001b[38;5;241m=\u001b[39m \u001b[43msq_loss_gradient\u001b[49m\u001b[43m(\u001b[49m\u001b[43mz_old\u001b[49m\u001b[43m,\u001b[49m\u001b[43m \u001b[49m\u001b[43my\u001b[49m\u001b[43m,\u001b[49m\u001b[43m \u001b[49m\u001b[43mxcoord\u001b[49m\u001b[43m,\u001b[49m\u001b[43m \u001b[49m\u001b[43mycoord\u001b[49m\u001b[43m)\u001b[49m\n\u001b[0;32m     81\u001b[0m \u001b[38;5;66;03m# Update x\u001b[39;00m\n\u001b[0;32m     82\u001b[0m \u001b[38;5;66;03m#print(z_old[iter])\u001b[39;00m\n\u001b[0;32m     83\u001b[0m x \u001b[38;5;241m=\u001b[39m shrinkage(z_old \u001b[38;5;241m-\u001b[39m step \u001b[38;5;241m*\u001b[39m grad, alpha)\n",
      "Cell \u001b[1;32mIn[3], line 28\u001b[0m, in \u001b[0;36msq_loss_gradient\u001b[1;34m(x, y, xcoord, ycoord)\u001b[0m\n\u001b[0;32m     26\u001b[0m samp_approx\u001b[38;5;241m=\u001b[39mnp\u001b[38;5;241m.\u001b[39mzeros(y\u001b[38;5;241m.\u001b[39mshape)\n\u001b[0;32m     27\u001b[0m \u001b[38;5;28;01mfor\u001b[39;00m l \u001b[38;5;129;01min\u001b[39;00m \u001b[38;5;28mrange\u001b[39m(xcoord\u001b[38;5;241m.\u001b[39mshape[\u001b[38;5;241m0\u001b[39m]):\n\u001b[1;32m---> 28\u001b[0m     samp_approx[l]\u001b[38;5;241m=\u001b[39m\u001b[43mimg_approx\u001b[49m\u001b[43m[\u001b[49m\u001b[43mxcoord\u001b[49m\u001b[43m[\u001b[49m\u001b[43ml\u001b[49m\u001b[43m]\u001b[49m\u001b[43m,\u001b[49m\u001b[43mycoord\u001b[49m\u001b[43m[\u001b[49m\u001b[43ml\u001b[49m\u001b[43m]\u001b[49m\u001b[43m]\u001b[49m\n\u001b[0;32m     30\u001b[0m \u001b[38;5;66;03m# The following calculates e=Ax-y\u001b[39;00m\n\u001b[0;32m     31\u001b[0m error\u001b[38;5;241m=\u001b[39msamp_approx\u001b[38;5;241m-\u001b[39my\n",
      "\u001b[1;31mIndexError\u001b[0m: index 643 is out of bounds for axis 0 with size 100"
     ]
    }
   ],
   "source": [
    "import imageio.v2 as iio\n",
    "import matplotlib.pyplot as plt\n",
    "import numpy as np\n",
    "import scipy.fftpack as transform\n",
    "\n",
    "img = iio.imread(\"panda.png\")\n",
    "# generating grayscale image:\n",
    "bw_img=np.sum(img,2)/3\n",
    "N = bw_img.shape[0]*img.shape[1]\n",
    "# Take a number sample_num of samples and generate their\n",
    "# horizontal and vertical coordinates (indicies) randomly in arrays xcoord, ycoord\n",
    "sample_num = int(N * 0.05)  # 5% of N\n",
    "xcoord = np.random.randint(0, bw_img.shape[0], sample_num)\n",
    "ycoord = np.random.randint(0, bw_img.shape[1], sample_num)\n",
    "\n",
    "# Store these samples in an array called y.\n",
    "y = bw_img[xcoord, ycoord]\n",
    "\n",
    "# The goal is to find the dct components x of the image from y and\n",
    "# then use inverse dct to reconstruct the image.\n",
    "\n",
    "def sq_loss_gradient(x,y, xcoord, ycoord):\n",
    "    # samp_approx is Ax\n",
    "    img_approx= transform.idct(transform.idct(x, axis=1, norm='ortho'),axis=0, norm='ortho')\n",
    "    #print(y.shape, xcoord.shape, ycoord.shape)\n",
    "    samp_approx=np.zeros(y.shape)\n",
    "    for l in range(xcoord.shape[0]):\n",
    "        samp_approx[l]=img_approx[xcoord[l],ycoord[l]]\n",
    "\n",
    "    # The following calculates e=Ax-y\n",
    "    error=samp_approx-y\n",
    "    img_err=np.zeros(bw_img.shape)\n",
    "    for l in range(sample_num):\n",
    "        img_err[xcoord[l],ycoord[l]]=error[l]\n",
    "    # This calculates A^Te which is the gradient \n",
    "    grad=transform.dct(transform.dct(img_err, axis=0, norm='ortho'),axis=1, norm='ortho')\n",
    "\n",
    "    return grad, samp_approx\n",
    "\n",
    "def shrinkage(x,alpha):\n",
    "    # Implement the shrinkage operator which is the proximal operator\n",
    "    # of the regularizer\n",
    "    return np.sign(x) * np.maximum(np.abs(x) - alpha, 0)\n",
    "    \n",
    "def calculate_obj_ISTA(x, y, Ax, lamb):\n",
    "    return np.sum((y - Ax) + lamb*np.linalg.norm(x))\n",
    "\n",
    "def ISTA(y, xcoord, ycoord, alpha, xinit, step=0.99, iternum=100):\n",
    "    # Implement the iteration and also calculate the objective value and\n",
    "        # the vaue of the regularization term at each iteration\n",
    "        # Calculate the gradient\n",
    "    # Initialization:\n",
    "    x = []  # Initialize x\n",
    "    x.append(xinit)  # x[0] is the initial point\n",
    "    obj_val = []\n",
    "    \n",
    "    for iter in range(iternum):\n",
    "        grad, Ax = sq_loss_gradient(x[-1], y, xcoord, ycoord)\n",
    "        x_hat = x - step*grad\n",
    "        x  = shrinkage(x_hat, alpha)\n",
    "        obj_val.append(calculate_obj_ISTA(x, y, Ax, step))\n",
    "    return x[-1]\n",
    "\n",
    "def FISTA(y, xcoord, ycoord, alpha, xinit, step=0.99, iternum=100):\n",
    "    # Implement the FISTA algorithm similar to ISTA\n",
    "    # It needs extra variables t and z    \n",
    "    # Initialization:\n",
    "    x = np.zeros((iternum, xinit.shape[0], xinit.shape[1]))  # Initialize x\n",
    "    z = x.copy()  # Initialize z\n",
    "    t = np.zeros(iternum)  # Initialize t\n",
    "    t[0] = 1  # t[0] is the initial point\n",
    "\n",
    "    for iter in range(iternum - 1):\n",
    "        x_old = x\n",
    "        z_old = z\n",
    "        t_old = t\n",
    "\n",
    "        # Compute the gradient at z\n",
    "        grad = sq_loss_gradient(z_old, y, xcoord, ycoord)\n",
    "\n",
    "        # Update x\n",
    "        #print(z_old[iter])\n",
    "        x = shrinkage(z_old - step * grad, alpha)\n",
    "\n",
    "        # Update t\n",
    "        t = (1 + np.sqrt(1 + 4 * t_old**2)) / 2\n",
    "\n",
    "        # Update z\n",
    "        z = x + ((t_old - 1) / t) * (x - x_old)\n",
    "\n",
    "    return x\n",
    "\n",
    "# run ISTA/FISTA and generate the approximate DCT coefficients x\n",
    "# Then, generate the recovered image\n",
    "    #aplha is related to the step size and a regularisation parameter\n",
    "alpha = 10\n",
    "x_ISTA = ISTA(y, xcoord, ycoord, alpha, np.zeros(bw_img.shape), step=0.99, iternum=100)\n",
    "img_approx_ISTA = transform.idct(transform.idct(x_ISTA, axis=1),axis=0, norm='ortho')\n",
    "\n",
    "x_FISTA = FISTA(y, xcoord, ycoord, alpha, np.zeros(bw_img.shape), step=0.99, iternum=100)\n",
    "img_approx_FISTA = transform.idct(transform.idct(x_FISTA, axis=1),axis=0, norm='ortho')\n",
    "\n",
    "# Plot the result\n",
    "fig = plt.figure()    \n",
    "plt.imshow(img_approx_ISTA, cmap='gray')\n",
    "fig.show()\n",
    "\n",
    "# Plot the result\n",
    "fig = plt.figure()    \n",
    "plt.imshow(img_approx_FISTA, cmap='gray')\n",
    "fig.show()\n"
   ]
  },
  {
   "cell_type": "code",
   "execution_count": null,
   "metadata": {},
   "outputs": [],
   "source": []
  },
  {
   "cell_type": "code",
   "execution_count": null,
   "metadata": {},
   "outputs": [],
   "source": []
  },
  {
   "cell_type": "code",
   "execution_count": null,
   "metadata": {},
   "outputs": [],
   "source": []
  }
 ],
 "metadata": {
  "kernelspec": {
   "display_name": "Python 3",
   "language": "python",
   "name": "python3"
  },
  "language_info": {
   "codemirror_mode": {
    "name": "ipython",
    "version": 3
   },
   "file_extension": ".py",
   "mimetype": "text/x-python",
   "name": "python",
   "nbconvert_exporter": "python",
   "pygments_lexer": "ipython3",
   "version": "3.12.0"
  }
 },
 "nbformat": 4,
 "nbformat_minor": 2
}
