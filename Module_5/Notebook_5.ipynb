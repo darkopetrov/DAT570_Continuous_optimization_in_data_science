{
 "cells": [
  {
   "cell_type": "markdown",
   "metadata": {},
   "source": [
    "# <center> Module 5\n",
    "\n",
    "Group: 12<br>\n",
    "Darko Petrov<br>\n",
    "Alexander Lendon"
   ]
  },
  {
   "cell_type": "markdown",
   "metadata": {},
   "source": [
    "#### 1"
   ]
  },
  {
   "cell_type": "markdown",
   "metadata": {},
   "source": [
    "#### 2"
   ]
  },
  {
   "cell_type": "code",
   "execution_count": 23,
   "metadata": {},
   "outputs": [
    {
     "name": "stdout",
     "output_type": "stream",
     "text": [
      "(40440,) (40440,) (40440,)\n"
     ]
    },
    {
     "ename": "ValueError",
     "evalue": "The truth value of an array with more than one element is ambiguous. Use a.any() or a.all()",
     "output_type": "error",
     "traceback": [
      "\u001b[1;31m---------------------------------------------------------------------------\u001b[0m",
      "\u001b[1;31mValueError\u001b[0m                                Traceback (most recent call last)",
      "\u001b[1;32mc:\\Users\\lendo\\Documents\\Alex\\Study\\Chalmers Sound & Vibration MSc\\Modules\\DAT570 CODS\\DAT570_Continuous_optimization_in_data_science\\Module_5\\Notebook_5.ipynb Cell 4\u001b[0m line \u001b[0;36m1\n\u001b[0;32m     <a href='vscode-notebook-cell:/c%3A/Users/lendo/Documents/Alex/Study/Chalmers%20Sound%20%26%20Vibration%20MSc/Modules/DAT570%20CODS/DAT570_Continuous_optimization_in_data_science/Module_5/Notebook_5.ipynb#W6sZmlsZQ%3D%3D?line=97'>98</a>\u001b[0m     \u001b[39mreturn\u001b[39;00m x[\u001b[39miter\u001b[39m\u001b[39m+\u001b[39m\u001b[39m1\u001b[39m]\n\u001b[0;32m    <a href='vscode-notebook-cell:/c%3A/Users/lendo/Documents/Alex/Study/Chalmers%20Sound%20%26%20Vibration%20MSc/Modules/DAT570%20CODS/DAT570_Continuous_optimization_in_data_science/Module_5/Notebook_5.ipynb#W6sZmlsZQ%3D%3D?line=99'>100</a>\u001b[0m \u001b[39m# run ISTA/FISTA and generate the approximate DCT coefficients x\u001b[39;00m\n\u001b[0;32m    <a href='vscode-notebook-cell:/c%3A/Users/lendo/Documents/Alex/Study/Chalmers%20Sound%20%26%20Vibration%20MSc/Modules/DAT570%20CODS/DAT570_Continuous_optimization_in_data_science/Module_5/Notebook_5.ipynb#W6sZmlsZQ%3D%3D?line=100'>101</a>\u001b[0m \u001b[39m# Then, generate the recovered image\u001b[39;00m\n\u001b[1;32m--> <a href='vscode-notebook-cell:/c%3A/Users/lendo/Documents/Alex/Study/Chalmers%20Sound%20%26%20Vibration%20MSc/Modules/DAT570%20CODS/DAT570_Continuous_optimization_in_data_science/Module_5/Notebook_5.ipynb#W6sZmlsZQ%3D%3D?line=102'>103</a>\u001b[0m x_ISTA \u001b[39m=\u001b[39m ISTA(y, xcoord, ycoord, \u001b[39m0.1\u001b[39;49m, np\u001b[39m.\u001b[39;49mzeros(bw_img\u001b[39m.\u001b[39;49mshape), step\u001b[39m=\u001b[39;49m\u001b[39m0.99\u001b[39;49m, iternum\u001b[39m=\u001b[39;49m\u001b[39m100\u001b[39;49m)\n\u001b[0;32m    <a href='vscode-notebook-cell:/c%3A/Users/lendo/Documents/Alex/Study/Chalmers%20Sound%20%26%20Vibration%20MSc/Modules/DAT570%20CODS/DAT570_Continuous_optimization_in_data_science/Module_5/Notebook_5.ipynb#W6sZmlsZQ%3D%3D?line=103'>104</a>\u001b[0m img_approx_ISTA \u001b[39m=\u001b[39m transform\u001b[39m.\u001b[39midct(transform\u001b[39m.\u001b[39midct(x_ISTA, axis\u001b[39m=\u001b[39m\u001b[39m1\u001b[39m),axis\u001b[39m=\u001b[39m\u001b[39m0\u001b[39m, norm\u001b[39m=\u001b[39m\u001b[39m'\u001b[39m\u001b[39mortho\u001b[39m\u001b[39m'\u001b[39m)\n\u001b[0;32m    <a href='vscode-notebook-cell:/c%3A/Users/lendo/Documents/Alex/Study/Chalmers%20Sound%20%26%20Vibration%20MSc/Modules/DAT570%20CODS/DAT570_Continuous_optimization_in_data_science/Module_5/Notebook_5.ipynb#W6sZmlsZQ%3D%3D?line=105'>106</a>\u001b[0m \u001b[39m#x_FISTA = FISTA(y, xcoord, ycoord, 0.1, np.zeros(bw_img.shape), step=0.99, iternum=100)\u001b[39;00m\n\u001b[0;32m    <a href='vscode-notebook-cell:/c%3A/Users/lendo/Documents/Alex/Study/Chalmers%20Sound%20%26%20Vibration%20MSc/Modules/DAT570%20CODS/DAT570_Continuous_optimization_in_data_science/Module_5/Notebook_5.ipynb#W6sZmlsZQ%3D%3D?line=106'>107</a>\u001b[0m \u001b[39m#img_approx_FISTA = transform.idct(transform.idct(x_FISTA, axis=1),axis=0, norm='ortho')\u001b[39;00m\n\u001b[0;32m    <a href='vscode-notebook-cell:/c%3A/Users/lendo/Documents/Alex/Study/Chalmers%20Sound%20%26%20Vibration%20MSc/Modules/DAT570%20CODS/DAT570_Continuous_optimization_in_data_science/Module_5/Notebook_5.ipynb#W6sZmlsZQ%3D%3D?line=107'>108</a>\u001b[0m \n\u001b[0;32m    <a href='vscode-notebook-cell:/c%3A/Users/lendo/Documents/Alex/Study/Chalmers%20Sound%20%26%20Vibration%20MSc/Modules/DAT570%20CODS/DAT570_Continuous_optimization_in_data_science/Module_5/Notebook_5.ipynb#W6sZmlsZQ%3D%3D?line=108'>109</a>\u001b[0m \u001b[39m# Plot the result\u001b[39;00m\n",
      "\u001b[1;32mc:\\Users\\lendo\\Documents\\Alex\\Study\\Chalmers Sound & Vibration MSc\\Modules\\DAT570 CODS\\DAT570_Continuous_optimization_in_data_science\\Module_5\\Notebook_5.ipynb Cell 4\u001b[0m line \u001b[0;36m6\n\u001b[0;32m     <a href='vscode-notebook-cell:/c%3A/Users/lendo/Documents/Alex/Study/Chalmers%20Sound%20%26%20Vibration%20MSc/Modules/DAT570%20CODS/DAT570_Continuous_optimization_in_data_science/Module_5/Notebook_5.ipynb#W6sZmlsZQ%3D%3D?line=64'>65</a>\u001b[0m     x_hat \u001b[39m=\u001b[39m x \u001b[39m-\u001b[39m step\u001b[39m*\u001b[39mgrad\n\u001b[0;32m     <a href='vscode-notebook-cell:/c%3A/Users/lendo/Documents/Alex/Study/Chalmers%20Sound%20%26%20Vibration%20MSc/Modules/DAT570%20CODS/DAT570_Continuous_optimization_in_data_science/Module_5/Notebook_5.ipynb#W6sZmlsZQ%3D%3D?line=65'>66</a>\u001b[0m \u001b[39m#aplha is related to the step size and a regularisation parameter\u001b[39;00m\n\u001b[1;32m---> <a href='vscode-notebook-cell:/c%3A/Users/lendo/Documents/Alex/Study/Chalmers%20Sound%20%26%20Vibration%20MSc/Modules/DAT570%20CODS/DAT570_Continuous_optimization_in_data_science/Module_5/Notebook_5.ipynb#W6sZmlsZQ%3D%3D?line=66'>67</a>\u001b[0m     x  \u001b[39m=\u001b[39m shrinkage(x_hat, alpha)\n\u001b[0;32m     <a href='vscode-notebook-cell:/c%3A/Users/lendo/Documents/Alex/Study/Chalmers%20Sound%20%26%20Vibration%20MSc/Modules/DAT570%20CODS/DAT570_Continuous_optimization_in_data_science/Module_5/Notebook_5.ipynb#W6sZmlsZQ%3D%3D?line=67'>68</a>\u001b[0m     obj_val\u001b[39m.\u001b[39mappend(calculate_obj_ISTA(x, y, Ax, step))\n\u001b[0;32m     <a href='vscode-notebook-cell:/c%3A/Users/lendo/Documents/Alex/Study/Chalmers%20Sound%20%26%20Vibration%20MSc/Modules/DAT570%20CODS/DAT570_Continuous_optimization_in_data_science/Module_5/Notebook_5.ipynb#W6sZmlsZQ%3D%3D?line=68'>69</a>\u001b[0m \u001b[39mreturn\u001b[39;00m x[\u001b[39m-\u001b[39m\u001b[39m1\u001b[39m]\n",
      "\u001b[1;32mc:\\Users\\lendo\\Documents\\Alex\\Study\\Chalmers Sound & Vibration MSc\\Modules\\DAT570 CODS\\DAT570_Continuous_optimization_in_data_science\\Module_5\\Notebook_5.ipynb Cell 4\u001b[0m line \u001b[0;36m4\n\u001b[0;32m     <a href='vscode-notebook-cell:/c%3A/Users/lendo/Documents/Alex/Study/Chalmers%20Sound%20%26%20Vibration%20MSc/Modules/DAT570%20CODS/DAT570_Continuous_optimization_in_data_science/Module_5/Notebook_5.ipynb#W6sZmlsZQ%3D%3D?line=39'>40</a>\u001b[0m \u001b[39mdef\u001b[39;00m \u001b[39mshrinkage\u001b[39m(x,alpha):\n\u001b[0;32m     <a href='vscode-notebook-cell:/c%3A/Users/lendo/Documents/Alex/Study/Chalmers%20Sound%20%26%20Vibration%20MSc/Modules/DAT570%20CODS/DAT570_Continuous_optimization_in_data_science/Module_5/Notebook_5.ipynb#W6sZmlsZQ%3D%3D?line=40'>41</a>\u001b[0m     \u001b[39m# Implement the shrinkage operator which is the proximal operator\u001b[39;00m\n\u001b[0;32m     <a href='vscode-notebook-cell:/c%3A/Users/lendo/Documents/Alex/Study/Chalmers%20Sound%20%26%20Vibration%20MSc/Modules/DAT570%20CODS/DAT570_Continuous_optimization_in_data_science/Module_5/Notebook_5.ipynb#W6sZmlsZQ%3D%3D?line=41'>42</a>\u001b[0m     \u001b[39m# of the regularizer\u001b[39;00m\n\u001b[1;32m---> <a href='vscode-notebook-cell:/c%3A/Users/lendo/Documents/Alex/Study/Chalmers%20Sound%20%26%20Vibration%20MSc/Modules/DAT570%20CODS/DAT570_Continuous_optimization_in_data_science/Module_5/Notebook_5.ipynb#W6sZmlsZQ%3D%3D?line=43'>44</a>\u001b[0m     \u001b[39mif\u001b[39;00m x \u001b[39m>\u001b[39m\u001b[39m=\u001b[39m alpha:\n\u001b[0;32m     <a href='vscode-notebook-cell:/c%3A/Users/lendo/Documents/Alex/Study/Chalmers%20Sound%20%26%20Vibration%20MSc/Modules/DAT570%20CODS/DAT570_Continuous_optimization_in_data_science/Module_5/Notebook_5.ipynb#W6sZmlsZQ%3D%3D?line=44'>45</a>\u001b[0m         \u001b[39mreturn\u001b[39;00m x\u001b[39m-\u001b[39malpha\n\u001b[0;32m     <a href='vscode-notebook-cell:/c%3A/Users/lendo/Documents/Alex/Study/Chalmers%20Sound%20%26%20Vibration%20MSc/Modules/DAT570%20CODS/DAT570_Continuous_optimization_in_data_science/Module_5/Notebook_5.ipynb#W6sZmlsZQ%3D%3D?line=45'>46</a>\u001b[0m     \u001b[39melif\u001b[39;00m x \u001b[39m<\u001b[39m\u001b[39m=\u001b[39m \u001b[39m-\u001b[39malpha:\n",
      "\u001b[1;31mValueError\u001b[0m: The truth value of an array with more than one element is ambiguous. Use a.any() or a.all()"
     ]
    }
   ],
   "source": [
    "import imageio.v2 as iio\n",
    "import matplotlib.pyplot as plt\n",
    "import numpy as np\n",
    "import scipy.fftpack as transform\n",
    "\n",
    "img = iio.imread(\"panda.png\")\n",
    "# generating grayscale image:\n",
    "bw_img=np.sum(img,2)/3\n",
    "N = bw_img.shape[0]*img.shape[1]\n",
    "# Take a number sample_num of samples and generate their\n",
    "# horizontal and vertical coordinates (indicies) randomly in arrays xcoord, ycoord\n",
    "sample_num = int(N * 0.05)  # 5% of N\n",
    "xcoord = np.random.randint(0, bw_img.shape[0], sample_num)\n",
    "ycoord = np.random.randint(0, bw_img.shape[1], sample_num)\n",
    "\n",
    "# Store these samples in an array called y.\n",
    "y = bw_img[xcoord, ycoord]\n",
    "\n",
    "# The goal is to find the dct components x of the image from y and\n",
    "# then use inverse dct to reconstruct the image.\n",
    "\n",
    "def sq_loss_gradient(x,y, xcoord, ycoord):\n",
    "    # samp_approx is Ax\n",
    "    img_approx= transform.idct(transform.idct(x, axis=1, norm='ortho'),axis=0, norm='ortho')\n",
    "    print(y.shape, xcoord.shape, ycoord.shape)\n",
    "    samp_approx=np.zeros(y.shape)\n",
    "    for l in range(y.shape[0]):\n",
    "        samp_approx[l]=img_approx[xcoord[l],ycoord[l]]\n",
    "\n",
    "    # The following calculates e=Ax-y\n",
    "    error=samp_approx-y\n",
    "    img_err=np.zeros(bw_img.shape)\n",
    "    for l in range(sample_num):\n",
    "        img_err[xcoord[l],ycoord[l]]=error[l]\n",
    "    # This calculates A^Te which is the gradient \n",
    "    grad=transform.dct(transform.dct(img_err, axis=0, norm='ortho'),axis=1, norm='ortho')\n",
    "\n",
    "    return grad, samp_approx\n",
    "\n",
    "def shrinkage(x,alpha):\n",
    "    # Implement the shrinkage operator which is the proximal operator\n",
    "    # of the regularizer\n",
    "    return np.sign(x) * np.maximum(np.abs(x) - alpha, 0)\n",
    "    \n",
    "def calculate_obj_ISTA(x, y, Ax, lamb):\n",
    "    return np.sum((y - Ax) + lamb*np.linalg.norm(x))\n",
    "\n",
    "def ISTA(y, xcoord, ycoord, alpha, xinit, step=0.99, iternum=100):\n",
    "    # Implement the iteration and also calculate the objective value and\n",
    "        # the vaue of the regularization term at each iteration\n",
    "        # Calculate the gradient\n",
    "    # Initialization:\n",
    "    x = []  # Initialize x\n",
    "    x.append(xinit)  # x[0] is the initial point\n",
    "    obj_val = []\n",
    "    \n",
    "    for iter in range(iternum):\n",
    "        grad, Ax = sq_loss_gradient(x[-1], y, xcoord, ycoord)\n",
    "        x_hat = x - step*grad\n",
    "        x  = shrinkage(x_hat, alpha)\n",
    "        obj_val.append(calculate_obj_ISTA(x, y, Ax, step))\n",
    "    return x[-1]\n",
    "\n",
    "def FISTA(y, xcoord, ycoord, alpha, xinit, step=0.99, iternum=100):\n",
    "    # Implement the FISTA algorithm similar to ISTA\n",
    "    # It needs extra variables t and z    \n",
    "    # Initialization:\n",
    "    x = np.zeros((iternum, xinit.shape[0], xinit.shape[1]))  # Initialize x\n",
    "    z = x.copy()  # Initialize z\n",
    "    t = np.zeros(iternum)  # Initialize t\n",
    "    t[0] = 1  # t[0] is the initial point\n",
    "\n",
    "    for iter in range(iternum - 1):\n",
    "        x_old = x[iter]\n",
    "        z_old = z[iter]\n",
    "        t_old = t[iter]\n",
    "\n",
    "        # Compute the gradient at z\n",
    "        grad = sq_loss_gradient(z_old, y, xcoord, ycoord)\n",
    "\n",
    "        # Update x\n",
    "        print(z_old[iter])\n",
    "        x[iter+1] = shrinkage(z_old[iter] - step * grad, alpha)\n",
    "\n",
    "        # Update t\n",
    "        t[iter+1] = (1 + np.sqrt(1 + 4 * t_old**2)) / 2\n",
    "\n",
    "        # Update z\n",
    "        z[iter+1] = x[iter+1] + ((t_old - 1) / t[iter+1]) * (x[iter+1] - x_old)\n",
    "\n",
    "    return x[iter+1]\n",
    "\n",
    "# run ISTA/FISTA and generate the approximate DCT coefficients x\n",
    "# Then, generate the recovered image\n",
    "    #aplha is related to the step size and a regularisation parameter\n",
    "alpha = 0.1\n",
    "x_ISTA = ISTA(y, xcoord, ycoord, alpha, np.zeros(bw_img.shape), step=0.99, iternum=100)\n",
    "img_approx_ISTA = transform.idct(transform.idct(x_ISTA, axis=1),axis=0, norm='ortho')\n",
    "\n",
    "#x_FISTA = FISTA(y, xcoord, ycoord, 0.1, np.zeros(bw_img.shape), step=0.99, iternum=100)\n",
    "#img_approx_FISTA = transform.idct(transform.idct(x_FISTA, axis=1),axis=0, norm='ortho')\n",
    "\n",
    "# Plot the result\n",
    "fig = plt.figure()    \n",
    "plt.imshow(img_approx_ISTA, cmap='gray')\n",
    "fig.show()\n",
    "\n",
    "# Plot the result\n",
    "#fig = plt.figure()    \n",
    "#plt.imshow(img_approx_FISTA, cmap='gray')\n",
    "#fig.show()\n"
   ]
  },
  {
   "cell_type": "code",
   "execution_count": null,
   "metadata": {},
   "outputs": [],
   "source": []
  },
  {
   "cell_type": "code",
   "execution_count": null,
   "metadata": {},
   "outputs": [],
   "source": []
  },
  {
   "cell_type": "code",
   "execution_count": null,
   "metadata": {},
   "outputs": [],
   "source": []
  }
 ],
 "metadata": {
  "kernelspec": {
   "display_name": "Python 3",
   "language": "python",
   "name": "python3"
  },
  "language_info": {
   "codemirror_mode": {
    "name": "ipython",
    "version": 3
   },
   "file_extension": ".py",
   "mimetype": "text/x-python",
   "name": "python",
   "nbconvert_exporter": "python",
   "pygments_lexer": "ipython3",
   "version": "3.12.0"
  }
 },
 "nbformat": 4,
 "nbformat_minor": 2
}
