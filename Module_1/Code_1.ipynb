{
 "cells": [
  {
   "cell_type": "markdown",
   "metadata": {},
   "source": [
    "# <center> Module 1 \n",
    "\n",
    "Group: <br>\n",
    "Darko Petrov <br>\n",
    "Alexander Lendon"
   ]
  },
  {
   "cell_type": "markdown",
   "metadata": {},
   "source": [
    "### <center> Q1. Gaussian Models."
   ]
  },
  {
   "cell_type": "markdown",
   "metadata": {},
   "source": [
    "#### 1\n",
    "a)\n",
    "\n",
    "$$\n",
    "- log L(\\mu, \\sigma^2, X) = \\frac{n}{2} log (2\\pi) + \\frac{n}{2} log (\\sigma^2) + \\frac{1}{2 \\sigma^2} \\sum^n_{i=1}(X_i-\\mu)^2\n",
    "$$"
   ]
  },
  {
   "cell_type": "markdown",
   "metadata": {},
   "source": [
    "b) \n",
    "\n",
    "To find the maximum likelihood we need to derivate with respect to $\\mu$ and $\\sigma$ as shown below \n",
    "for $\\mu$ \n",
    "$$\n",
    "\\frac{d}{d\\mu} - log L(\\mu, \\sigma, X) = \\frac{1}{2 \\sigma^2} \\sum^n_{i=1}2(X_i-\\mu)\n",
    "$$\n",
    "\n",
    "for $\\sigma^2$\n",
    "$$\n",
    "\\frac{d}{d\\sigma} - log L(\\mu, \\sigma, X) = \\frac{n}{2\\sigma^2}+\\frac{1}{2\\sigma^4}\\sum^n_{i=1}(X_i-\\mu)^2\n",
    "$$"
   ]
  },
  {
   "cell_type": "markdown",
   "metadata": {},
   "source": [
    "c) For a test in a class room $\\mu$ is the mean result of the students. Two factors drive this variable, the difficulty of the test and the preparedness of the students. A more diffcult test a lower mean is suited. Similarly lower preparedness of students would also suit a lower mean value.\n",
    "\n",
    "The variance of results is denoted by $\\sigma$, this indicates the spread of the results. For a difficult test or student group with diverse abilities a larger variance would be suitable. A small sigma value would be suitable for easier test and with good student preparation or similar abilities."
   ]
  },
  {
   "cell_type": "markdown",
   "metadata": {},
   "source": [
    "#### 2\n",
    "\n",
    "a)\n",
    "\n",
    "$$\n",
    "p(y_i | x_i, \\theta) = \\mathcal{N}(y_i | x_i^T \\theta +\\mu, \\sigma^2)\n",
    "$$\n",
    "\n",
    "$$\n",
    "L(\\theta) = -\\sum_{i=1}^N \\log (p(y_n|x_n,\\theta)) = -\\sum_{i=1}^N  \\log (\\mathcal{N}(y_i | x_i^T \\theta +\\mu, \\sigma^2))\n",
    "$$\n",
    "\n",
    "$$\n",
    " = - \\sum_{i=1}^N \\log\\left(\\frac{1}{\\sqrt{2\\pi\\sigma^2}} e^{-\\frac{y_i-x_i^T\\theta-\\mu}{2\\sigma^2}}\\right)\n",
    "$$\n",
    "\n",
    "$$\n",
    "=-\\sum^N_{i=1}\\log \\left(e^{-\\frac{-y_i-x_i^T\\theta-\\mu}{2\\sigma^2}}\\right)-\\sum^N_{i=1}\\log\\left(\\frac{1}{\\sqrt{2\\pi\\sigma^2}}\\right)\n",
    "$$\n",
    "\n",
    "\n",
    "$$\n",
    "=\\frac{1}{2\\sigma ^2}\\sum_{i=1}^N(y_i-x_i^T\\theta-\\mu)^2-\\sum^N_{i=1}\\log\\left(\\frac{1}{\\sqrt{2\\pi\\sigma^2}}\\right)\n",
    "$$\n"
   ]
  },
  {
   "cell_type": "code",
   "execution_count": 10,
   "metadata": {},
   "outputs": [
    {
     "name": "stdout",
     "output_type": "stream",
     "text": [
      "54.60196067119501\n",
      "56.28258370271321\n",
      "56.91340507366476\n",
      "57.19504487406719\n",
      "57.35367562932614\n",
      "57.455307945403874\n",
      "57.525968277508426\n",
      "57.577959235653154\n",
      "57.61784487700841\n",
      "57.64944508941745\n",
      "57.67513306481508\n",
      "57.696460495072486\n",
      "57.71448444608654\n",
      "57.72994970490429\n",
      "57.74339601921698\n",
      "57.75522399612011\n",
      "57.76573712743373\n",
      "57.77516945573302\n",
      "57.783704295878636\n",
      "57.79148721284442\n",
      "57.79863521144928\n",
      "57.80524336790268\n",
      "57.81138969709712\n",
      "57.81713877988029\n",
      "57.822544503739074\n",
      "57.82765215992525\n",
      "57.83250006646197\n",
      "57.837120837642665\n",
      "57.84154238660715\n",
      "57.845788724302594\n",
      "57.84988060136305\n",
      "57.85383602790138\n",
      "57.85767069736545\n",
      "57.861398334498794\n",
      "57.86503098283944\n",
      "57.868579243592364\n",
      "57.872052475254954\n",
      "57.875458961223664\n",
      "57.87880605132687\n",
      "57.882100281758554\n",
      "57.88534747728486\n",
      "57.888552838572636\n",
      "57.891721017197824\n",
      "57.894856180269905\n",
      "57.8979620663159\n",
      "57.90104203369759\n",
      "57.90409910287269\n",
      "57.907135993178116\n",
      "57.91015515506798\n",
      "57.91315879844785\n",
      "57.91614891754568\n",
      "57.91912731294245\n",
      "57.922095610976044\n",
      "57.92505528100682\n",
      "57.92800765072921\n",
      "57.930953919796\n",
      "57.93389517201043\n",
      "57.93683238618996\n",
      "57.93976644589618\n",
      "57.942698148205004\n",
      "57.9456282115335\n",
      "57.94855728272087\n",
      "57.95148594339288\n",
      "57.95441471573233\n",
      "57.95734406767644\n",
      "57.960274417625726\n",
      "57.963206138704685\n",
      "57.966139562671756\n",
      "57.96907498342021\n",
      "57.97201266019013\n",
      "57.9749528204899\n",
      "57.977895662785\n",
      "57.980841358883744\n",
      "57.98379005621464\n",
      "57.986741879820464\n",
      "57.98969693425469\n",
      "57.99265530524978\n",
      "57.99561706132048\n",
      "57.99858225517356\n",
      "58.00155092505253\n",
      "58.00452309591393\n",
      "58.00749878059184\n",
      "58.010477980785076\n",
      "58.013460688024885\n",
      "58.0164468845225\n",
      "58.01943654401188\n",
      "58.02242963246406\n",
      "58.02542610877283\n",
      "58.02842592539431\n",
      "58.031429028925174\n",
      "58.03443536064545\n",
      "58.03744485701943\n",
      "58.04045745015097\n",
      "58.04347306821364\n",
      "58.04649163584361\n",
      "58.04951307450774\n",
      "58.052537302839376\n",
      "58.05556423696136\n",
      "58.05859379073877\n",
      "58.06162587610084\n"
     ]
    },
    {
     "name": "stderr",
     "output_type": "stream",
     "text": [
      "C:\\Users\\darko\\AppData\\Local\\Packages\\PythonSoftwareFoundation.Python.3.11_qbz5n2kfra8p0\\LocalCache\\local-packages\\Python311\\site-packages\\sklearn\\linear_model\\_ridge.py:200: LinAlgWarning: Ill-conditioned matrix (rcond=2.03287e-19): result may not be accurate.\n",
      "  return linalg.solve(A, Xy, assume_a=\"pos\", overwrite_a=True).T\n"
     ]
    }
   ],
   "source": [
    "import pandas\n",
    "import numpy as np\n",
    "from sklearn.linear_model import Ridge, LinearRegression\n",
    "from sklearn.model_selection import train_test_split\n",
    "from sklearn.metrics import mean_squared_error\n",
    "# We will be using the sklearn library. You can learn more here:\n",
    "# https://scikit-learn.org/stable/modules/generated/sklearn.linear_model.Ridge.html\n",
    "\n",
    "\n",
    "# Loading the data\n",
    "data0=pandas.read_csv('Real estate.csv')\n",
    "npdata=data0.to_numpy()\n",
    "\n",
    "# Divide the data to the variables and the label (price)\n",
    "# The Ridge class does not admit an intercept (i.e. mu in the assignment) you should\n",
    "# add a suitable column to your variables that will provide an extra parameter\n",
    "# i.e. mu. Think what this column should be\n",
    "\n",
    "# Now run ridge regression. Note that in the ridge classe mu is known as alpha.\n",
    "#Setting alph=0 gives you the maximum likelihood solution. \n",
    "# You should try really large values of alpha to see the difference\n",
    "\n",
    "# print(npdata)\n",
    "X = npdata[:, :-1]  \n",
    "y = npdata[:, -1]   \n",
    "X = np.column_stack((np.ones(X.shape[0]), X))\n",
    "X_train, X_test, y_train, y_test = train_test_split(X, y, test_size=0.2, random_state=42)\n",
    "\n",
    "ols_model = LinearRegression()\n",
    "ols_model.fit(X_train, y_train)\n",
    "\n",
    "alpha_values = np.linspace(1e-10,1e1,100)\n",
    "ridge_models = {}\n",
    "ridge_mse = []\n",
    "\n",
    "for alpha in alpha_values:\n",
    "    ridge_model = Ridge(alpha=alpha)\n",
    "    ridge_model.fit(X_train, y_train)\n",
    "    ridge_models[alpha] = ridge_model\n",
    "    y_pred = ridge_model.predict(X_test)\n",
    "    mse = mean_squared_error(y_test, y_pred)\n",
    "    ridge_mse.append(mse)\n"
   ]
  },
  {
   "cell_type": "code",
   "execution_count": 9,
   "metadata": {},
   "outputs": [
    {
     "data": {
      "text/plain": [
       "[<matplotlib.lines.Line2D at 0x15978f4d9d0>]"
      ]
     },
     "execution_count": 9,
     "metadata": {},
     "output_type": "execute_result"
    },
    {
     "data": {
      "image/png": "[encoded data removed]",
      "text/plain": [
       "<Figure size 640x480 with 1 Axes>"
      ]
     },
     "metadata": {},
     "output_type": "display_data"
    }
   ],
   "source": [
    "import matplotlib.pyplot as plt\n",
    "# for a, b in zip(alpha_values, ridge_mse):\n",
    "#     print(\"For Appha = \",a, \"MSE=\", b)\n",
    "    \n",
    "plt.plot(alpha_values,(ridge_mse))"
   ]
  }
 ],
 "metadata": {
  "kernelspec": {
   "display_name": "Python 3",
   "language": "python",
   "name": "python3"
  },
  "language_info": {
   "codemirror_mode": {
    "name": "ipython",
    "version": 3
   },
   "file_extension": ".py",
   "mimetype": "text/x-python",
   "name": "python",
   "nbconvert_exporter": "python",
   "pygments_lexer": "ipython3",
   "version": "3.11.6"
  }
 },
 "nbformat": 4,
 "nbformat_minor": 2
}
