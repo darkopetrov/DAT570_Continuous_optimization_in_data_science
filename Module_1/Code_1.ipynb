{
 "cells": [
  {
   "cell_type": "markdown",
   "metadata": {},
   "source": [
    "# <center> Module 1 \n",
    "\n",
    "Group: <br>\n",
    "Darko Petrov <br>\n",
    "Alexander Lendon"
   ]
  },
  {
   "cell_type": "markdown",
   "metadata": {},
   "source": [
    "### <center> Q1. Gaussian Models."
   ]
  },
  {
   "cell_type": "markdown",
   "metadata": {},
   "source": [
    "#### 1\n",
    "a)\n",
    "\n",
    "$$\n",
    "- log L(\\mu, \\sigma^2, X) = \\frac{n}{2} log (2\\pi) + \\frac{n}{2} log (\\sigma^2) + \\frac{1}{2 \\sigma^2} \\sum^n_{i=1}(X_i-\\mu)^2\n",
    "$$"
   ]
  },
  {
   "cell_type": "markdown",
   "metadata": {},
   "source": [
    "b) \n",
    "\n",
    "To find the maximum likelihood we need to derivate with respect to $\\mu$ and $\\sigma$ as shown below \n",
    "for $\\mu$ \n",
    "$$\n",
    "\\frac{d}{d\\mu} - log L(\\mu, \\sigma, X) = \\frac{1}{2 \\sigma^2} \\sum^n_{i=1}2(X_i-\\mu)\n",
    "$$\n",
    "\n",
    "for $\\sigma^2$\n",
    "$$\n",
    "\\frac{d}{d\\sigma} - log L(\\mu, \\sigma, X) = \\frac{n}{2\\sigma^2}+\\frac{1}{2\\sigma^4}\\sum^n_{i=1}(X_i-\\mu)^2\n",
    "$$"
   ]
  },
  {
   "cell_type": "markdown",
   "metadata": {},
   "source": [
    "c) For a test in a class room $\\mu$ is the mean result of the students. Two factors drive this variable, the difficulty of the test and the preparedness of the students. A more diffcult test a lower mean is suited. Similarly lower preparedness of students would also suit a lower mean value.\n",
    "\n",
    "The variance of results is denoted by $\\sigma$, this indicates the spread of the results. For a difficult test or student group with diverse abilities a larger variance would be suitable. A small sigma value would be suitable for easier test and with good student preparation or similar abilities."
   ]
  },
  {
   "cell_type": "markdown",
   "metadata": {},
   "source": [
    "#### 2\n",
    "\n",
    "a)\n",
    "\n",
    "$$\n",
    "p(y_i | x_i, \\theta) = \\mathcal{N}(y_i | x_i^T \\theta +\\mu, \\sigma^2)\n",
    "$$\n",
    "\n",
    "$$\n",
    "L(\\theta) = -\\sum_{i=1}^N \\log (p(y_n|x_n,\\theta)) = -\\sum_{i=1}^N  \\log (\\mathcal{N}(y_i | x_i^T \\theta +\\mu, \\sigma^2))\n",
    "$$\n",
    "\n",
    "$$\n",
    " = - \\sum_{i=1}^N \\log\\left(\\frac{1}{\\sqrt{2\\pi\\sigma^2}} e^{-\\frac{y_i-x_i^T\\theta-\\mu}{2\\sigma^2}}\\right)\n",
    "$$\n",
    "\n",
    "$$\n",
    "=-\\sum^N_{i=1}\\log \\left(e^{-\\frac{-y_i-x_i^T\\theta-\\mu}{2\\sigma^2}}\\right)-\\sum^N_{i=1}\\log\\left(\\frac{1}{\\sqrt{2\\pi\\sigma^2}}\\right)\n",
    "$$\n",
    "\n",
    "\n",
    "$$\n",
    "=\\frac{1}{2\\sigma ^2}\\sum_{i=1}^N(y_i-x_i^T\\theta-\\mu)^2-N\\log\\left(\\frac{1}{\\sqrt{2\\pi\\sigma^2}}\\right)\n",
    "$$\n"
   ]
  },
  {
   "cell_type": "markdown",
   "metadata": {},
   "source": [
    "b)\n",
    "\n",
    "Take the derivative of the negative log likelihood function with respect to $\\sigma^2$. Setting the resulting expression to zero and solving for $\\sigma^2$ gives the maximum likelihood estimate for $\\sigma^2$.\n",
    "$$\n",
    "\\frac{\\partial{P}}{\\partial{\\sigma^2}} = -\\frac{N}{2\\sigma^2}+\\frac{1}{2\\sigma^4}\\sum^N_{i=1}x_i(y_i-(\\theta^T x_i+\\mu))^2=0\n",
    "$$\n",
    "Rearrange for $\\sigma^2$\n",
    "$$\n",
    "\\frac{N}{2\\sigma^2} = \\frac{1}{2\\sigma^4}\\sum^N_{i=1}x_i(y_i-(\\theta^T x_i+\\mu))^2\n",
    "$$\n",
    "$$\n",
    "\\sigma^2 = \\frac{1}{N}\\sum^N_{i=1}x_i(y_i-(\\theta^T x_i+\\mu))^2\n",
    "$$\n",
    "\n",
    "Similarly minimising the negative log likelihood function with resepect to $\\hat\\theta$,$\\hat\\mu$ gives the maximum likelihood estimate for $\\hat\\theta$ and $\\hat\\mu$. When minimising the expression for $\\mathcal{L}(\\theta,\\mu,\\sigma^2)$ the constant terms behave as a scaling factor and as such do not contribute to the optimisation of the location of minimum. Hence the resulting expression for this is:\n",
    "\n",
    "$$\n",
    "\\hat\\theta,\\hat\\mu = \\text{argmin}_{\\theta\\mu}\\sum_{i=1}^N(y_i-\\theta^T x_i-\\mu)^2\n",
    "$$"
   ]
  },
  {
   "cell_type": "markdown",
   "metadata": {},
   "source": [
    "c) The L2 regularisation can be incorporated into the likelihood function as a gaussian prior defined as \n",
    "\n",
    "$$\n",
    "p(\\theta)=\\mathcal{N}(\\theta|0,\\lambda−1) = \\sqrt{\\frac{\\lambda}{2\\pi}}e^{-\\frac{\\lambda}{2}||\\theta||^2_2}\n",
    "$$\n",
    "\n",
    "Taking negative log of this expression\n",
    "$$\n",
    "-\\log p(\\theta)=-\\log\\left(\\sqrt{\\frac{\\lambda}{2\\pi}}\\right) -\\log\\left( e^{-\\frac{\\lambda}{2}||\\theta||^2_2}\\right)\n",
    "$$\n",
    "$$\n",
    "=-\\log\\left(\\sqrt{\\frac{\\lambda}{2\\pi}}\\right) +\\left({\\frac{\\lambda}{2}||\\theta||^2_2}\\right)\n",
    "$$\n",
    "We can add this to the likelihood expression obtained previously\n",
    "$$\n",
    "L(\\theta)=\\frac{1}{2\\sigma ^2}\\sum_{i=1}^N(y_i-x_i^T\\theta-\\mu)^2-N\\log\\left(\\frac{1}{\\sqrt{2\\pi\\sigma^2}}\\right) -\\log\\left(\\sqrt{\\frac{\\lambda}{2\\pi}}\\right) +\\left({\\frac{\\lambda}{2}||\\theta||^2_2}\\right)\n",
    "$$\n",
    "and minimising this expression with respect to $\\theta$ $\\mu$.\n",
    "$$\n",
    "\\hat\\theta,\\hat\\mu = \\text{argmin}_{\\theta\\mu}\\sum_{i=1}^N(y_i-\\theta^T x_i-\\mu)^2 +{\\lambda||\\theta||^2_2}\n",
    "$$\n",
    "Again constants are ignored as part of the minimisation."
   ]
  },
  {
   "cell_type": "code",
   "execution_count": 1,
   "metadata": {},
   "outputs": [
    {
     "name": "stdout",
     "output_type": "stream",
     "text": [
      "OLS Mean Squared Error: 54.60196067337739\n"
     ]
    }
   ],
   "source": [
    "import pandas\n",
    "import numpy as np\n",
    "from sklearn.linear_model import Ridge, LinearRegression\n",
    "from sklearn.model_selection import train_test_split\n",
    "from sklearn.metrics import mean_squared_error\n",
    "import statsmodels.api as sm\n",
    "# We will be using the sklearn library. You can learn more here:    \n",
    "# https://scikit-learn.org/stable/modules/generated/sklearn.linear_model.Ridge.html\n",
    "\n",
    "\n",
    "# Loading the data\n",
    "data0=pandas.read_csv('Real estate.csv')\n",
    "npdata=data0.to_numpy()\n",
    "\n",
    "# Divide the data to the variables and the label (price)\n",
    "# The Ridge class does not admit an intercept (i.e. mu in the assignment) you should\n",
    "# add a suitable column to your variables that will provide an extra parameter\n",
    "# i.e. mu. Think what this column should be\n",
    "\n",
    "# Now run ridge regression. Note that in the ridge classe mu is known as alpha.\n",
    "#Setting alph=0 gives you the maximum likelihood solution. \n",
    "# You should try really large values of alpha to see the difference\n",
    "\n",
    "# print(npdata)\n",
    "X = npdata[:, :-1]  \n",
    "y = npdata[:, -1]   \n",
    "# X = np.column_stack((np.ones(X.shape[0]), X))\n",
    "X = sm.add_constant(X)\n",
    "# x = X\n",
    "X_train, X_test, y_train, y_test = train_test_split(X, y, test_size=0.2, random_state=42)\n",
    "\n",
    "\n",
    "\n",
    "# Run OLS regression\n",
    "# Create and fit an OLS regression model\n",
    "ols_model = LinearRegression()\n",
    "ols_model.fit(X_train, y_train)\n",
    "\n",
    "# Make predictions on the test data\n",
    "ols_predictions = ols_model.predict(X_test)\n",
    "\n",
    "# Calculate the Mean Squared Error (MSE) for OLS\n",
    "ols_mse = mean_squared_error(y_test, ols_predictions)\n",
    "print(f\"OLS Mean Squared Error: {ols_mse}\")\n",
    "\n",
    "\n",
    "alpha_values = np.logspace(-4,4, 10000)\n",
    "alpha_values = np.insert(alpha_values, 0, 0.)\n",
    "ridge_models = {}\n",
    "ridge_mse = []\n",
    "\n",
    "for alpha in alpha_values:\n",
    "    ridge_model = Ridge(alpha=alpha)\n",
    "    ridge_model.fit(X_train, y_train)\n",
    "    ridge_models[alpha] = ridge_model\n",
    "    y_pred = ridge_model.predict(X_test)\n",
    "    mse = mean_squared_error(y_test, y_pred)\n",
    "    ridge_mse.append(mse)\n",
    "\n"
   ]
  },
  {
   "cell_type": "code",
   "execution_count": 2,
   "metadata": {},
   "outputs": [
    {
     "data": {
      "text/plain": [
       "[<matplotlib.lines.Line2D at 0x1cd322f30d0>]"
      ]
     },
     "execution_count": 2,
     "metadata": {},
     "output_type": "execute_result"
    },
    {
     "data": {
      "image/png": "[encoded data removed]",
      "text/plain": [
       "<Figure size 640x480 with 1 Axes>"
      ]
     },
     "metadata": {},
     "output_type": "display_data"
    }
   ],
   "source": [
    "import matplotlib.pyplot as plt\n",
    "# for a, b in zip(alpha_values, ridge_mse):\n",
    "#     print(\"For Appha = \",a, \"MSE=\", b)\n",
    "    \n",
    "plt.plot(alpha_values,(ridge_mse))\n"
   ]
  },
  {
   "cell_type": "markdown",
   "metadata": {},
   "source": [
    "d)\n",
    "\n",
    "i)\n",
    "\n",
    "\n",
    "ii)\n",
    "\n",
    "iii)\n",
    "\n",
    "iv)\n",
    "\n",
    "v)"
   ]
  },
  {
   "cell_type": "markdown",
   "metadata": {},
   "source": [
    "#### 3\n",
    "\n",
    "a)\n",
    "Gaussian distribution\n",
    "$$\n",
    "p(x_i | \\mu, R) = \\frac{1}{(2\\pi)^{m/2} |R|^{1/2}} \\exp\\left(-\\frac{1}{2} (x_i - \\mu)^T R^{-1} (x_i - \\mu)\\right)\n",
    "$$\n",
    "\n",
    "Likelihood function\n",
    "$$\n",
    "p(\\{x_i\\} | R, \\mu) = \\frac{1}{(2\\pi)^{mn/2} |R|^{n/2}} \\exp\\left(-\\frac{1}{2} \\sum_{i=1}^n (x_i - \\mu)^T R^{-1} (x_i - \\mu)\\right)\n",
    "$$\n",
    "\n"
   ]
  },
  {
   "cell_type": "markdown",
   "metadata": {},
   "source": [
    "b)"
   ]
  },
  {
   "cell_type": "markdown",
   "metadata": {},
   "source": [
    "#### 4\n",
    "\n",
    "a)\n",
    "\n"
   ]
  },
  {
   "cell_type": "markdown",
   "metadata": {},
   "source": [
    "b)"
   ]
  },
  {
   "cell_type": "markdown",
   "metadata": {},
   "source": [
    "c)"
   ]
  },
  {
   "cell_type": "markdown",
   "metadata": {},
   "source": [
    "d)"
   ]
  },
  {
   "cell_type": "markdown",
   "metadata": {},
   "source": [
    "e)"
   ]
  },
  {
   "cell_type": "markdown",
   "metadata": {},
   "source": [
    "### <center> Q2. Logistic Regression"
   ]
  },
  {
   "cell_type": "markdown",
   "metadata": {},
   "source": [
    "#### 1\n",
    "\n"
   ]
  },
  {
   "cell_type": "markdown",
   "metadata": {},
   "source": [
    "#### 2\n",
    "\n",
    "a)\n",
    "\n"
   ]
  },
  {
   "cell_type": "markdown",
   "metadata": {},
   "source": [
    "b)\n",
    "\n"
   ]
  },
  {
   "cell_type": "markdown",
   "metadata": {},
   "source": [
    "c)\n",
    "\n"
   ]
  },
  {
   "cell_type": "markdown",
   "metadata": {},
   "source": [
    "### <center> Q3"
   ]
  },
  {
   "cell_type": "markdown",
   "metadata": {},
   "source": [
    "#### 1"
   ]
  },
  {
   "cell_type": "markdown",
   "metadata": {},
   "source": [
    "#### 2\n",
    "\n",
    "a)\n",
    "\n"
   ]
  },
  {
   "cell_type": "markdown",
   "metadata": {},
   "source": [
    "b)"
   ]
  }
 ],
 "metadata": {
  "kernelspec": {
   "display_name": "Python 3",
   "language": "python",
   "name": "python3"
  },
  "language_info": {
   "codemirror_mode": {
    "name": "ipython",
    "version": 3
   },
   "file_extension": ".py",
   "mimetype": "text/x-python",
   "name": "python",
   "nbconvert_exporter": "python",
   "pygments_lexer": "ipython3",
   "version": "3.11.6"
  }
 },
 "nbformat": 4,
 "nbformat_minor": 2
}
