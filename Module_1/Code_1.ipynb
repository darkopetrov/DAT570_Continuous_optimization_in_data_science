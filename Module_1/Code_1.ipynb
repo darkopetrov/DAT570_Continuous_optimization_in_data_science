{
 "cells": [
  {
   "cell_type": "markdown",
   "metadata": {},
   "source": [
    "# <center> Module 1 \n",
    "\n",
    "Group: <br>\n",
    "Darko Petrov <br>\n",
    "Alexander Lendon"
   ]
  },
  {
   "cell_type": "markdown",
   "metadata": {},
   "source": [
    "### <center> Q1. Gaussian Models."
   ]
  },
  {
   "cell_type": "markdown",
   "metadata": {},
   "source": [
    "#### 1\n",
    "a)\n",
    "$$\n",
    "- log L(\\mu, \\sigma^2, X) = \\frac{n}{2} log (2\\pi) + \\frac{n}{2} log (\\sigma^2) + \\frac{1}{2 \\sigma^2} \\sum^n_{i=1}(X_i-\\mu)^2\n",
    "$$"
   ]
  },
  {
   "cell_type": "markdown",
   "metadata": {},
   "source": [
    "b) \n",
    "for $\\mu$\n",
    "$$\n",
    "\\frac{d}{d\\mu} - log L(\\mu, \\sigma, X) = \\frac{1}{2 \\sigma^2} \\sum^n_{i=1}2(X_i-\\mu)\n",
    "$$\n",
    "\n",
    "for $\\sigma^2$\n",
    "$$\n",
    "\\frac{d}{d\\sigma} - log L(\\mu, \\sigma, X) = \\frac{n}{2\\sigma^2}+\\frac{1}{2\\sigma^4}\\sum^n_{i=1}(X_i-\\mu)^2\n",
    "$$"
   ]
  },
  {
   "cell_type": "markdown",
   "metadata": {},
   "source": [
    "c) For a test in a class room $\\mu$ is the mean result of the students. Two factors drive this variable, the difficulty of the test and the preparedness of the students. A more diffcult test a lower mean is suited. Similarly lower preparedness of students would also suit a lower mean value.\n",
    "\n",
    "The variance of results is denoted by $\\sigma$, this indicates the spread of the results. For a difficult test or student group with diverse abilities a larger variance would be suitable. A small sigma value would be suitable for easier test and with good student preparation or similar abilities."
   ]
  },
  {
   "cell_type": "code",
   "execution_count": null,
   "metadata": {},
   "outputs": [],
   "source": []
  },
  {
   "cell_type": "markdown",
   "metadata": {},
   "source": [
    "#### 2\n",
    "a)\n"
   ]
  },
  {
   "cell_type": "code",
   "execution_count": 2,
   "metadata": {},
   "outputs": [
    {
     "name": "stderr",
     "output_type": "stream",
     "text": [
      "C:\\Users\\darko\\AppData\\Local\\Packages\\PythonSoftwareFoundation.Python.3.11_qbz5n2kfra8p0\\LocalCache\\local-packages\\Python311\\site-packages\\sklearn\\linear_model\\_ridge.py:200: LinAlgWarning: Ill-conditioned matrix (rcond=2.03287e-19): result may not be accurate.\n",
      "  return linalg.solve(A, Xy, assume_a=\"pos\", overwrite_a=True).T\n"
     ]
    }
   ],
   "source": [
    "import pandas\n",
    "import numpy as np\n",
    "from sklearn.linear_model import Ridge, LinearRegression\n",
    "from sklearn.model_selection import train_test_split\n",
    "from sklearn.metrics import mean_squared_error\n",
    "# We will be using the sklearn library. You can learn more here:\n",
    "# https://scikit-learn.org/stable/modules/generated/sklearn.linear_model.Ridge.html\n",
    "\n",
    "\n",
    "# Loading the data\n",
    "data0=pandas.read_csv('Real estate.csv')\n",
    "npdata=data0.to_numpy()\n",
    "\n",
    "# Divide the data to the variables and the label (price)\n",
    "# The Ridge class does not admit an intercept (i.e. mu in the assignment) you should\n",
    "# add a suitable column to your variables that will provide an extra parameter\n",
    "# i.e. mu. Think what this column should be\n",
    "\n",
    "# Now run ridge regression. Note that in the ridge classe mu is known as alpha.\n",
    "#Setting alph=0 gives you the maximum likelihood solution. \n",
    "# You should try really large values of alpha to see the difference\n",
    "\n",
    "# print(npdata)\n",
    "X = npdata[:, :-1]  \n",
    "y = npdata[:, -1]   \n",
    "X = np.column_stack((np.ones(X.shape[0]), X))\n",
    "X_train, X_test, y_train, y_test = train_test_split(X, y, test_size=0.2, random_state=42)\n",
    "\n",
    "ols_model = LinearRegression()\n",
    "ols_model.fit(X_train, y_train)\n",
    "\n",
    "alpha_values = np.linspace(1e-10,100000,100000)\n",
    "ridge_models = {}\n",
    "ridge_mse = []\n",
    "\n",
    "for alpha in alpha_values:\n",
    "    ridge_model = Ridge(alpha=alpha)\n",
    "    ridge_model.fit(X_train, y_train)\n",
    "    ridge_models[alpha] = ridge_model\n",
    "    y_pred = ridge_model.predict(X_test)\n",
    "    mse = mean_squared_error(y_test, y_pred)\n",
    "    ridge_mse.append(mse)\n"
   ]
  },
  {
   "cell_type": "code",
   "execution_count": 3,
   "metadata": {},
   "outputs": [
    {
     "data": {
      "text/plain": [
       "[<matplotlib.lines.Line2D at 0x2086ab6dad0>]"
      ]
     },
     "execution_count": 3,
     "metadata": {},
     "output_type": "execute_result"
    },
    {
     "data": {
      "image/png": "[encoded data removed]",
      "text/plain": [
       "<Figure size 640x480 with 1 Axes>"
      ]
     },
     "metadata": {},
     "output_type": "display_data"
    }
   ],
   "source": [
    "import matplotlib.pyplot as plt\n",
    "# for a, b in zip(alpha_values, ridge_mse):\n",
    "#     print(\"For Appha = \",a, \"MSE=\", b)\n",
    "    \n",
    "plt.plot(alpha_values,np.log(ridge_mse))"
   ]
  }
 ],
 "metadata": {
  "kernelspec": {
   "display_name": "Python 3",
   "language": "python",
   "name": "python3"
  },
  "language_info": {
   "codemirror_mode": {
    "name": "ipython",
    "version": 3
   },
   "file_extension": ".py",
   "mimetype": "text/x-python",
   "name": "python",
   "nbconvert_exporter": "python",
   "pygments_lexer": "ipython3",
   "version": "3.11.6"
  }
 },
 "nbformat": 4,
 "nbformat_minor": 2
}
