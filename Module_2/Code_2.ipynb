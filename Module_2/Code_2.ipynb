{
 "cells": [
  {
   "cell_type": "markdown",
   "metadata": {},
   "source": [
    "# <center> Module 2\n",
    "\n",
    "Group: 12<br>\n",
    "Darko Petrov <br>\n",
    "Alexander Lendon"
   ]
  },
  {
   "cell_type": "markdown",
   "metadata": {},
   "source": [
    "### <center> Q1.\n"
   ]
  },
  {
   "cell_type": "markdown",
   "metadata": {},
   "source": [
    "#### 1.\n",
    "The equality constraint was defined as \n",
    "$$\n",
    "y_t(\\theta^Tx_t+\\mu)<0\n",
    "$$\n",
    "so we would like to minimise this term to find the optimal solution.\n",
    "$$\n",
    "\\min_{(\\theta,\\mu),(z_i\\in \\Reals)} \\sum^n_{t=1}l(z_t)+\\frac{\\alpha}{2}||\\theta||^2_2\\\\\n",
    "s.t.\\\\\n",
    "z_t= y_t(\\theta^Tx_t+ \\mu)\n",
    "$$\n",
    "To obtain the lagarangian function one must introduce lagrange multipliers to the equality constraints. \n",
    "Bringing in the equality constraint and multiplying by the lagrange multiplier $\\lambda_t$ associated with the ith equality constraint.\n",
    "$$\n",
    "L(\\theta,\\mu,\\{z_i\\in \\Reals\\},\\lambda) = \\sum^n_{t=1}l(z_t)+\\frac{\\alpha}{2}||\\theta||^2_2 + \\sum^n_{t=1}\\lambda_t(z_t - y_t(\\theta^Tx_t+ \\mu))\n",
    "$$"
   ]
  },
  {
   "cell_type": "markdown",
   "metadata": {},
   "source": [
    "In satisfying slaters condition, a point where conditions that satisfy strong duality must exist. At this point the solutions to the primal and dual problems are equal. A point where these conditions are met (all inequality constrains are satisfied) is in the interior of the feasible set.\n",
    "Therefore if we introduce this point for $\\lambda \\geq 0$:\n",
    "$$\n",
    "g(\\lambda)\\leq p^*\n",
    "$$\n",
    "For some feasible point $\\bar{z}$ the lagragian dual function therfore satisfies\n",
    "$$\n",
    "g(\\lambda) =\\sum^n_{t=1}\\lambda_t(\\bar{z}-\\bar{y}(\\theta^T\\bar{x}+\\mu)) \\leq 0\n",
    "$$\n",
    "\n",
    "and so the following condition is satisfied.\n",
    "$$\n",
    "l(\\bar{z})+\\frac{\\alpha}{2}||\\theta||^2_2 + \\sum^n_{t=1}\\lambda_t(\\bar{z} - y_t(\\theta^Tx_t+ \\mu)) \n",
    "\\leq \n",
    "l(\\bar{z})+\\frac{\\alpha}{2}||\\theta||^2_2\n",
    "$$\n",
    "Or the original minimisation for the primal solution is always larger than the dual solution."
   ]
  },
  {
   "cell_type": "markdown",
   "metadata": {},
   "source": [
    "#### 2.\n"
   ]
  },
  {
   "cell_type": "markdown",
   "metadata": {},
   "source": [
    "#### 3."
   ]
  },
  {
   "cell_type": "markdown",
   "metadata": {},
   "source": [
    "#### 4."
   ]
  },
  {
   "cell_type": "markdown",
   "metadata": {},
   "source": [
    "### <center> Q2. (Expectation Maximization Clustering)"
   ]
  },
  {
   "cell_type": "markdown",
   "metadata": {},
   "source": [
    "#### 1.\n"
   ]
  },
  {
   "cell_type": "markdown",
   "metadata": {},
   "source": [
    "#### 2."
   ]
  },
  {
   "cell_type": "markdown",
   "metadata": {},
   "source": [
    "#### 3."
   ]
  },
  {
   "cell_type": "markdown",
   "metadata": {},
   "source": [
    "### <center> Q3. (Bregman divergence)"
   ]
  },
  {
   "cell_type": "markdown",
   "metadata": {},
   "source": [
    "#### 1."
   ]
  },
  {
   "cell_type": "markdown",
   "metadata": {},
   "source": [
    "#### 2."
   ]
  },
  {
   "cell_type": "markdown",
   "metadata": {},
   "source": [
    "#### 3."
   ]
  }
 ],
 "metadata": {
  "language_info": {
   "name": "python"
  }
 },
 "nbformat": 4,
 "nbformat_minor": 2
}
